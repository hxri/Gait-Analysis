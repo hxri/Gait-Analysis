{
 "cells": [
  {
   "cell_type": "code",
   "execution_count": 14,
   "metadata": {},
   "outputs": [],
   "source": [
    "from ultralytics import YOLO\n",
    "import matplotlib.pyplot as plt\n",
    "import numpy as np"
   ]
  },
  {
   "cell_type": "code",
   "execution_count": 2,
   "metadata": {},
   "outputs": [],
   "source": [
    "model = YOLO(\"./yolov8x-seg.pt\")"
   ]
  },
  {
   "cell_type": "code",
   "execution_count": 19,
   "metadata": {},
   "outputs": [
    {
     "name": "stderr",
     "output_type": "stream",
     "text": [
      "\n",
      "image 1/1 D:\\projects\\gait_analysis\\production\\Gait-Analysis\\automation\\cats-and-children-2.jpg: 384x640 1 person, 789.8ms\n",
      "Speed: 3.0ms preprocess, 789.8ms inference, 4.9ms postprocess per image at shape (1, 3, 640, 640)\n"
     ]
    }
   ],
   "source": [
    "results = model(\"./output/frames/0.jpg\")"
   ]
  },
  {
   "cell_type": "code",
   "execution_count": 11,
   "metadata": {},
   "outputs": [],
   "source": [
    "m2 = 'Inference time: {0} ms | Preprocess time: {1} ms | Postprocess time: {2} ms' .format(round(results[0].speed['inference'], 2), round(results[0].speed['preprocess'], 2), round(results[0].speed['postprocess'], 2))"
   ]
  },
  {
   "cell_type": "code",
   "execution_count": 12,
   "metadata": {},
   "outputs": [
    {
     "name": "stdout",
     "output_type": "stream",
     "text": [
      "Inference time: 1168.45 ms | Preprocess time: 2.01 ms | Postprocess time: 7.11 ms\n"
     ]
    }
   ],
   "source": [
    "print(m2)"
   ]
  },
  {
   "cell_type": "code",
   "execution_count": 21,
   "metadata": {},
   "outputs": [],
   "source": [
    "import numpy as np"
   ]
  },
  {
   "cell_type": "code",
   "execution_count": 22,
   "metadata": {},
   "outputs": [
    {
     "data": {
      "text/plain": [
       "(1, 3, 1, 1, 0)"
      ]
     },
     "execution_count": 22,
     "metadata": {},
     "output_type": "execute_result"
    }
   ],
   "source": [
    "np.shape(results)"
   ]
  },
  {
   "cell_type": "code",
   "execution_count": 23,
   "metadata": {},
   "outputs": [
    {
     "data": {
      "text/plain": [
       "(3, 1, 1, 0)"
      ]
     },
     "execution_count": 23,
     "metadata": {},
     "output_type": "execute_result"
    }
   ],
   "source": [
    "np.shape(results[0])"
   ]
  },
  {
   "cell_type": "code",
   "execution_count": 24,
   "metadata": {},
   "outputs": [],
   "source": [
    "for r in results:\n",
    "    masks = r.masks"
   ]
  },
  {
   "cell_type": "code",
   "execution_count": 25,
   "metadata": {},
   "outputs": [],
   "source": [
    "masks = masks.numpy()"
   ]
  },
  {
   "cell_type": "code",
   "execution_count": 26,
   "metadata": {},
   "outputs": [
    {
     "data": {
      "text/plain": [
       "ultralytics.yolo.engine.results.Masks\n",
       "type:  numpy.ndarray\n",
       "shape: (3, 352, 640)\n",
       "dtype: float32\n",
       "array([[[          0,           0,           0, ...,           0,           0,           0],\n",
       "        [          0,           0,           0, ...,           0,           0,           0],\n",
       "        [          0,           0,           0, ...,           0,           0,           0],\n",
       "        ...,\n",
       "        [          0,           0,           0, ...,           0,           0,           0],\n",
       "        [          0,           0,           0, ...,           0,           0,           0],\n",
       "        [          0,           0,           0, ...,           0,           0,           0]],\n",
       "\n",
       "       [[          0,           0,           0, ...,           0,           0,           0],\n",
       "        [          0,           0,           0, ...,           0,           0,           0],\n",
       "        [          0,           0,           0, ...,           0,           0,           0],\n",
       "        ...,\n",
       "        [          0,           0,           0, ...,           0,           0,           0],\n",
       "        [          0,           0,           0, ...,           0,           0,           0],\n",
       "        [          0,           0,           0, ...,           0,           0,           0]],\n",
       "\n",
       "       [[          0,           0,           0, ...,           0,           0,           0],\n",
       "        [          0,           0,           0, ...,           0,           0,           0],\n",
       "        [          0,           0,           0, ...,           0,           0,           0],\n",
       "        ...,\n",
       "        [          0,           0,           0, ...,           0,           0,           0],\n",
       "        [          0,           0,           0, ...,           0,           0,           0],\n",
       "        [          0,           0,           0, ...,           0,           0,           0]]], dtype=float32)"
      ]
     },
     "execution_count": 26,
     "metadata": {},
     "output_type": "execute_result"
    }
   ],
   "source": [
    "masks"
   ]
  },
  {
   "cell_type": "code",
   "execution_count": 27,
   "metadata": {},
   "outputs": [],
   "source": [
    "masks = results[0].masks  # Masks object\n",
    "# masks.segments  # bounding coordinates of masks, List[segment] * N\n",
    "ms = masks.data.numpy()  # raw masks tensor, (N, H, W) or masks.masks "
   ]
  },
  {
   "cell_type": "code",
   "execution_count": 31,
   "metadata": {},
   "outputs": [
    {
     "data": {
      "text/plain": [
       "(3, 352, 640)"
      ]
     },
     "execution_count": 31,
     "metadata": {},
     "output_type": "execute_result"
    }
   ],
   "source": [
    "np.shape(ms)"
   ]
  },
  {
   "cell_type": "code",
   "execution_count": 10,
   "metadata": {},
   "outputs": [],
   "source": [
    "ms = np.reshape(ms, (640, 352, 8))"
   ]
  },
  {
   "cell_type": "code",
   "execution_count": 11,
   "metadata": {},
   "outputs": [],
   "source": []
  },
  {
   "cell_type": "code",
   "execution_count": 30,
   "metadata": {},
   "outputs": [
    {
     "data": {
      "text/plain": [
       "<matplotlib.image.AxesImage at 0x2274e123550>"
      ]
     },
     "execution_count": 30,
     "metadata": {},
     "output_type": "execute_result"
    }
   ],
   "source": [
    "plt.imshow(ms[0,:,:])"
   ]
  },
  {
   "cell_type": "code",
   "execution_count": 13,
   "metadata": {},
   "outputs": [
    {
     "data": {
      "text/plain": [
       "(480, 640)"
      ]
     },
     "execution_count": 13,
     "metadata": {},
     "output_type": "execute_result"
    }
   ],
   "source": [
    "np.shape(ms[:,:,1])"
   ]
  },
  {
   "cell_type": "code",
   "execution_count": 61,
   "metadata": {},
   "outputs": [],
   "source": [
    "def remove_noise(im_in):\n",
    "    im_th = im_in\n",
    " \n",
    "    # Copy the thresholded image.\n",
    "    im_floodfill = im_th.copy()\n",
    "    \n",
    "    # Mask used to flood filling.\n",
    "    # Notice the size needs to be 2 pixels than the image.\n",
    "    h, w = im_th.shape[:2]\n",
    "    mask = np.zeros((h+2, w+2), np.uint8)\n",
    "    \n",
    "    # Floodfill from point (0, 0)\n",
    "    cv2.floodFill(im_floodfill, mask, (0,0), 255)\n",
    "    \n",
    "    # # Invert floodfilled image\n",
    "    # im_floodfill_inv = cv2.bitwise_not(im_floodfill)\n",
    "    \n",
    "    # print(np.unique(im_th))\n",
    "    # print(np.unique(im_floodfill_inv))\n",
    "    # # Combine the two images to get the foreground.\n",
    "    # im_out = im_th | im_floodfill_inv\n",
    "\n",
    "    return im_floodfill"
   ]
  },
  {
   "cell_type": "code",
   "execution_count": 75,
   "metadata": {},
   "outputs": [
    {
     "data": {
      "text/plain": [
       "True"
      ]
     },
     "execution_count": 75,
     "metadata": {},
     "output_type": "execute_result"
    }
   ],
   "source": [
    "import cv2\n",
    "im = ms[0,:,:]*255\n",
    "kernel = np.ones((5, 5), np.uint8)\n",
    "im = cv2.dilate(im, kernel, iterations=1)\n",
    "cv2.imwrite('sample.png', im)"
   ]
  },
  {
   "cell_type": "code",
   "execution_count": 15,
   "metadata": {},
   "outputs": [
    {
     "data": {
      "text/plain": [
       "[{ '_keys': ('boxes', 'masks', 'probs'),\n",
       "   'boxes': ultralytics.yolo.engine.results.Boxes\n",
       " type:  torch.Tensor\n",
       " shape: torch.Size([8, 6])\n",
       " dtype: torch.float32\n",
       " tensor([[5.26103e+00, 2.31479e+02, 8.02383e+02, 7.37918e+02, 9.51836e-01, 5.00000e+00],\n",
       "         [5.14081e+01, 3.98717e+02, 2.45390e+02, 9.04000e+02, 9.33674e-01, 0.00000e+00],\n",
       "         [6.68863e+02, 3.95158e+02, 8.09542e+02, 8.81437e+02, 9.19471e-01, 0.00000e+00],\n",
       "         [2.23033e+02, 4.06190e+02, 3.43910e+02, 8.60250e+02, 9.08238e-01, 0.00000e+00],\n",
       "         [2.16564e-01, 5.50075e+02, 7.88119e+01, 8.68113e+02, 6.49358e-01, 0.00000e+00],\n",
       "         [1.98269e-01, 5.48748e+02, 7.91519e+01, 1.06577e+03, 5.21890e-01, 0.00000e+00],\n",
       "         [1.37122e+02, 4.76003e+02, 1.47559e+02, 5.05675e+02, 3.28902e-01, 2.70000e+01],\n",
       "         [6.66537e+02, 1.72851e+01, 7.40872e+02, 8.97503e+01, 2.78592e-01, 1.00000e+00]]),\n",
       "   'masks': ultralytics.yolo.engine.results.Masks\n",
       " type:  torch.Tensor\n",
       " shape: torch.Size([8, 640, 480])\n",
       " dtype: torch.float32\n",
       " tensor([[[0., 0., 0.,  ..., 0., 0., 0.],\n",
       "          [0., 0., 0.,  ..., 0., 0., 0.],\n",
       "          [0., 0., 0.,  ..., 0., 0., 0.],\n",
       "          ...,\n",
       "          [0., 0., 0.,  ..., 0., 0., 0.],\n",
       "          [0., 0., 0.,  ..., 0., 0., 0.],\n",
       "          [0., 0., 0.,  ..., 0., 0., 0.]],\n",
       " \n",
       "         [[0., 0., 0.,  ..., 0., 0., 0.],\n",
       "          [0., 0., 0.,  ..., 0., 0., 0.],\n",
       "          [0., 0., 0.,  ..., 0., 0., 0.],\n",
       "          ...,\n",
       "          [0., 0., 0.,  ..., 0., 0., 0.],\n",
       "          [0., 0., 0.,  ..., 0., 0., 0.],\n",
       "          [0., 0., 0.,  ..., 0., 0., 0.]],\n",
       " \n",
       "         [[0., 0., 0.,  ..., 0., 0., 0.],\n",
       "          [0., 0., 0.,  ..., 0., 0., 0.],\n",
       "          [0., 0., 0.,  ..., 0., 0., 0.],\n",
       "          ...,\n",
       "          [0., 0., 0.,  ..., 0., 0., 0.],\n",
       "          [0., 0., 0.,  ..., 0., 0., 0.],\n",
       "          [0., 0., 0.,  ..., 0., 0., 0.]],\n",
       " \n",
       "         ...,\n",
       " \n",
       "         [[0., 0., 0.,  ..., 0., 0., 0.],\n",
       "          [0., 0., 0.,  ..., 0., 0., 0.],\n",
       "          [0., 0., 0.,  ..., 0., 0., 0.],\n",
       "          ...,\n",
       "          [0., 0., 0.,  ..., 0., 0., 0.],\n",
       "          [0., 0., 0.,  ..., 0., 0., 0.],\n",
       "          [0., 0., 0.,  ..., 0., 0., 0.]],\n",
       " \n",
       "         [[0., 0., 0.,  ..., 0., 0., 0.],\n",
       "          [0., 0., 0.,  ..., 0., 0., 0.],\n",
       "          [0., 0., 0.,  ..., 0., 0., 0.],\n",
       "          ...,\n",
       "          [0., 0., 0.,  ..., 0., 0., 0.],\n",
       "          [0., 0., 0.,  ..., 0., 0., 0.],\n",
       "          [0., 0., 0.,  ..., 0., 0., 0.]],\n",
       " \n",
       "         [[0., 0., 0.,  ..., 0., 0., 0.],\n",
       "          [0., 0., 0.,  ..., 0., 0., 0.],\n",
       "          [0., 0., 0.,  ..., 0., 0., 0.],\n",
       "          ...,\n",
       "          [0., 0., 0.,  ..., 0., 0., 0.],\n",
       "          [0., 0., 0.,  ..., 0., 0., 0.],\n",
       "          [0., 0., 0.,  ..., 0., 0., 0.]]]),\n",
       "   'names': { 0: 'person',\n",
       "              1: 'bicycle',\n",
       "              2: 'car',\n",
       "              3: 'motorcycle',\n",
       "              4: 'airplane',\n",
       "              5: 'bus',\n",
       "              6: 'train',\n",
       "              7: 'truck',\n",
       "              8: 'boat',\n",
       "              9: 'traffic light',\n",
       "              10: 'fire hydrant',\n",
       "              11: 'stop sign',\n",
       "              12: 'parking meter',\n",
       "              13: 'bench',\n",
       "              14: 'bird',\n",
       "              15: 'cat',\n",
       "              16: 'dog',\n",
       "              17: 'horse',\n",
       "              18: 'sheep',\n",
       "              19: 'cow',\n",
       "              20: 'elephant',\n",
       "              21: 'bear',\n",
       "              22: 'zebra',\n",
       "              23: 'giraffe',\n",
       "              24: 'backpack',\n",
       "              25: 'umbrella',\n",
       "              26: 'handbag',\n",
       "              27: 'tie',\n",
       "              28: 'suitcase',\n",
       "              29: 'frisbee',\n",
       "              30: 'skis',\n",
       "              31: 'snowboard',\n",
       "              32: 'sports ball',\n",
       "              33: 'kite',\n",
       "              34: 'baseball bat',\n",
       "              35: 'baseball glove',\n",
       "              36: 'skateboard',\n",
       "              37: 'surfboard',\n",
       "              38: 'tennis racket',\n",
       "              39: 'bottle',\n",
       "              40: 'wine glass',\n",
       "              41: 'cup',\n",
       "              42: 'fork',\n",
       "              43: 'knife',\n",
       "              44: 'spoon',\n",
       "              45: 'bowl',\n",
       "              46: 'banana',\n",
       "              47: 'apple',\n",
       "              48: 'sandwich',\n",
       "              49: 'orange',\n",
       "              50: 'broccoli',\n",
       "              51: 'carrot',\n",
       "              52: 'hot dog',\n",
       "              53: 'pizza',\n",
       "              54: 'donut',\n",
       "              55: 'cake',\n",
       "              56: 'chair',\n",
       "              57: 'couch',\n",
       "              58: 'potted plant',\n",
       "              59: 'bed',\n",
       "              60: 'dining table',\n",
       "              61: 'toilet',\n",
       "              62: 'tv',\n",
       "              63: 'laptop',\n",
       "              64: 'mouse',\n",
       "              65: 'remote',\n",
       "              66: 'keyboard',\n",
       "              67: 'cell phone',\n",
       "              68: 'microwave',\n",
       "              69: 'oven',\n",
       "              70: 'toaster',\n",
       "              71: 'sink',\n",
       "              72: 'refrigerator',\n",
       "              73: 'book',\n",
       "              74: 'clock',\n",
       "              75: 'vase',\n",
       "              76: 'scissors',\n",
       "              77: 'teddy bear',\n",
       "              78: 'hair drier',\n",
       "              79: 'toothbrush'},\n",
       "   'orig_img': array([[[122, 148, 172],\n",
       "         [120, 146, 170],\n",
       "         [125, 153, 177],\n",
       "         ...,\n",
       "         [157, 170, 184],\n",
       "         [158, 171, 185],\n",
       "         [158, 171, 185]],\n",
       " \n",
       "        [[127, 153, 177],\n",
       "         [124, 150, 174],\n",
       "         [127, 155, 179],\n",
       "         ...,\n",
       "         [158, 171, 185],\n",
       "         [159, 172, 186],\n",
       "         [159, 172, 186]],\n",
       " \n",
       "        [[128, 154, 178],\n",
       "         [126, 152, 176],\n",
       "         [126, 154, 178],\n",
       "         ...,\n",
       "         [158, 171, 185],\n",
       "         [158, 171, 185],\n",
       "         [158, 171, 185]],\n",
       " \n",
       "        ...,\n",
       " \n",
       "        [[185, 185, 191],\n",
       "         [182, 182, 188],\n",
       "         [179, 179, 185],\n",
       "         ...,\n",
       "         [114, 107, 112],\n",
       "         [115, 105, 111],\n",
       "         [116, 106, 112]],\n",
       " \n",
       "        [[157, 157, 163],\n",
       "         [180, 180, 186],\n",
       "         [185, 186, 190],\n",
       "         ...,\n",
       "         [107,  97, 103],\n",
       "         [102,  92,  98],\n",
       "         [108,  98, 104]],\n",
       " \n",
       "        [[112, 112, 118],\n",
       "         [160, 160, 166],\n",
       "         [169, 170, 174],\n",
       "         ...,\n",
       "         [ 99,  89,  95],\n",
       "         [ 96,  86,  92],\n",
       "         [102,  92,  98]]], dtype=uint8),\n",
       "   'orig_shape': (1080, 810),\n",
       "   'path': 'D:\\\\projects\\\\gait_analysis\\\\production\\\\Gait-Analysis\\\\automation\\\\bus.jpg',\n",
       "   'probs': None,\n",
       "   'speed': {'inference': 1291.1484241485596, 'postprocess': 26.000499725341797, 'preprocess': 6.998777389526367}}]"
      ]
     },
     "execution_count": 15,
     "metadata": {},
     "output_type": "execute_result"
    }
   ],
   "source": [
    "results"
   ]
  },
  {
   "cell_type": "code",
   "execution_count": null,
   "metadata": {},
   "outputs": [],
   "source": []
  }
 ],
 "metadata": {
  "kernelspec": {
   "display_name": "tf",
   "language": "python",
   "name": "python3"
  },
  "language_info": {
   "codemirror_mode": {
    "name": "ipython",
    "version": 3
   },
   "file_extension": ".py",
   "mimetype": "text/x-python",
   "name": "python",
   "nbconvert_exporter": "python",
   "pygments_lexer": "ipython3",
   "version": "3.10.0"
  },
  "orig_nbformat": 4
 },
 "nbformat": 4,
 "nbformat_minor": 2
}
